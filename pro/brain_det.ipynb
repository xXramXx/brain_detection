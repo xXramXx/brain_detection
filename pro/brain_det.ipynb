{
 "cells": [
  {
   "cell_type": "code",
   "execution_count": null,
   "metadata": {},
   "outputs": [],
   "source": [
    "import tensorflow as tf\n",
    "from tensorflow.keras.optimizers import RMSprop\n",
    "import matplotlib.pyplot as plt\n",
    "import torch\n",
    "import os\n",
    "import cv2\n",
    "import pickle\n",
    "import random\n",
    "import numpy as np\n",
    "from tensorflow.keras.models import load_model, model_from_json\n",
    "import sys"
   ]
  },
  {
   "cell_type": "code",
   "execution_count": null,
   "metadata": {},
   "outputs": [],
   "source": [
    "def sculptdata(images):\n",
    "    img=cv2.imread(images)\n",
    "    img=cv2.resize(img,(224,224))\n",
    "    img=cv2.normalize(img, None, alpha=0, beta=1, norm_type=cv2.NORM_MINMAX, dtype=cv2.CV_32F)\n",
    "    return img"
   ]
  },
  {
   "cell_type": "code",
   "execution_count": null,
   "metadata": {},
   "outputs": [],
   "source": [
    "from ultralytics import YOLO\n",
    "model3 = torch.hub.load('ultralytics\\\\yolov5', 'custom', path='.\\\\last.pt', force_reload=True)\n",
    "model3.conf=0.60\n",
    "model2=load_model(\".\\\\mri_calss.h5\")"
   ]
  },
  {
   "cell_type": "code",
   "execution_count": null,
   "metadata": {},
   "outputs": [],
   "source": [
    "%matplotlib inline \n",
    "sub=['glioma_tumor','meningioma_tumor','pituitary_tumor','no_tumor']\n",
    "test_img_1=\"image(29).jpg\"\n",
    "\n",
    "res=model2.predict(test_img_1)\n",
    "pro=np.amax(res)\n",
    "val=np.argmax(res)\n",
    "print(\"There is \",'%.2f'%(pro*100),'%',\"it is \",sub[val].upper())\n",
    "results = model3(test_img_1)\n",
    "plt.imshow(np.squeeze(results.render()))\n",
    "plt.show()"
   ]
  }
 ],
 "metadata": {
  "language_info": {
   "name": "python"
  }
 },
 "nbformat": 4,
 "nbformat_minor": 2
}
